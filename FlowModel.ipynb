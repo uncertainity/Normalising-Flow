{
  "nbformat": 4,
  "nbformat_minor": 0,
  "metadata": {
    "colab": {
      "name": "FlowModel.ipynb",
      "provenance": [],
      "collapsed_sections": [],
      "machine_shape": "hm",
      "authorship_tag": "ABX9TyN74nV3M/PLuGWZWul66WYU",
      "include_colab_link": true
    },
    "kernelspec": {
      "name": "python3",
      "display_name": "Python 3"
    },
    "language_info": {
      "name": "python"
    },
    "accelerator": "GPU"
  },
  "cells": [
    {
      "cell_type": "markdown",
      "metadata": {
        "id": "view-in-github",
        "colab_type": "text"
      },
      "source": [
        "<a href=\"https://colab.research.google.com/github/uncertainity/Normalising-Flow/blob/main/FlowModel.ipynb\" target=\"_parent\"><img src=\"https://colab.research.google.com/assets/colab-badge.svg\" alt=\"Open In Colab\"/></a>"
      ]
    },
    {
      "cell_type": "code",
      "execution_count": null,
      "metadata": {
        "id": "j3dcpr5liJDK",
        "colab": {
          "base_uri": "https://localhost:8080/"
        },
        "outputId": "dcf9c454-392b-4cad-b035-05d2406a607b"
      },
      "outputs": [
        {
          "output_type": "stream",
          "name": "stdout",
          "text": [
            "Drive already mounted at /content/drive; to attempt to forcibly remount, call drive.mount(\"/content/drive\", force_remount=True).\n"
          ]
        }
      ],
      "source": [
        "from google.colab import drive\n",
        "drive.mount(\"/content/drive\")"
      ]
    },
    {
      "cell_type": "code",
      "source": [
        "!pip install keras"
      ],
      "metadata": {
        "colab": {
          "base_uri": "https://localhost:8080/"
        },
        "id": "YS-o1Qa_1DB1",
        "outputId": "3601254e-9c87-4ed2-eb80-ca13861b8a44"
      },
      "execution_count": null,
      "outputs": [
        {
          "output_type": "stream",
          "name": "stdout",
          "text": [
            "Requirement already satisfied: keras in /usr/local/lib/python3.7/dist-packages (2.8.0)\n"
          ]
        }
      ]
    },
    {
      "cell_type": "code",
      "source": [
        "import tensorflow as tf\n",
        "import tensorflow_probability as tfp\n",
        "import numpy as np\n",
        "import matplotlib.pyplot as plt\n",
        "\n",
        "from tensorflow.keras import Model, Input\n",
        "from tensorflow.keras.layers import Conv2D, BatchNormalization\n",
        "from tensorflow.keras.optimizers import Adam\n",
        "\n",
        "tfd = tfp.distributions\n",
        "tfb = tfp.bijectors\n",
        "\n",
        "# If you would like to make further imports from tensorflow, add them here\n",
        "from tensorflow.keras import layers\n",
        "from tensorflow.keras.regularizers import l2"
      ],
      "metadata": {
        "id": "gXLKicZ7irCL"
      },
      "execution_count": null,
      "outputs": []
    },
    {
      "cell_type": "code",
      "source": [
        "def load_dataset(split):\n",
        "  train_list_ds = tf.data.Dataset.list_files(\"/content/drive/MyDrive/LSUN_Test/{}/*.jpg\".format(split),shuffle = False)\n",
        "  return train_list_ds\n",
        "\n",
        "def load_image(filepath):\n",
        "  raw_img = tf.io.read_file(filepath)\n",
        "  img_tensor_int = tf.image.decode_jpeg(raw_img,channels = 3)\n",
        "  img_tensor_flt = tf.image.convert_image_dtype(img_tensor_int,dtype = tf.float32)\n",
        "  img_tesnor_flt = tf.image.resize(img_tensor_flt,[32,32])\n",
        "  img_tensor_flt = tf.image.random_flip_left_right(img_tesnor_flt)\n",
        "  return img_tensor_flt,img_tensor_flt\n"
      ],
      "metadata": {
        "id": "ZC6y86YjjcnJ"
      },
      "execution_count": null,
      "outputs": []
    },
    {
      "cell_type": "code",
      "source": [
        "split = \"train\"\n",
        "train_list_ds = load_dataset(\"train\")\n",
        "train_ds = train_list_ds.map(load_image)"
      ],
      "metadata": {
        "id": "mYQ5NL6Ojcs-"
      },
      "execution_count": null,
      "outputs": []
    },
    {
      "cell_type": "code",
      "source": [
        "\n",
        "print('/content/drive/MyDrive/lsun_bedroom/{}/.jpg'.format(split))"
      ],
      "metadata": {
        "colab": {
          "base_uri": "https://localhost:8080/"
        },
        "id": "o7iHHut2jc2e",
        "outputId": "ac92d1ff-4205-44f7-ec1c-d85f4f606ca5"
      },
      "execution_count": null,
      "outputs": [
        {
          "output_type": "stream",
          "name": "stdout",
          "text": [
            "/content/drive/MyDrive/lsun_bedroom/train/.jpg\n"
          ]
        }
      ]
    },
    {
      "cell_type": "code",
      "source": [
        "def load_image(filepath):\n",
        "  raw_img = tf.io.read_file(filepath)\n",
        "  img_tensor_int = tf.image.decode_jpeg(raw_img,channels = 3)\n",
        "  img_tensor_flt = tf.image.convert_image_dtype(img_tensor_int,dtype = tf.float32)\n",
        "  img_tesnor_flt = tf.image.resize(img_tensor_flt,[32,32])\n",
        "  img_tensor_flt = tf.image.random_flip_left_right(img_tesnor_flt)\n",
        "  return img_tensor_flt,img_tensor_flt\n",
        "\n",
        "def load_dataset(split):\n",
        "    train_list_ds = tf.data.Dataset.list_files(\"/content/drive/MyDrive/lsun_bedroom/{}/*.jpg\".format(split), shuffle=False)\n",
        "    train_ds = train_list_ds.map(load_image)\n",
        "    return train_ds"
      ],
      "metadata": {
        "id": "J2bWc-cDirEK"
      },
      "execution_count": null,
      "outputs": []
    },
    {
      "cell_type": "code",
      "source": [
        "train_ds = load_dataset(\"train\")"
      ],
      "metadata": {
        "id": "859te90XirF9"
      },
      "execution_count": null,
      "outputs": []
    },
    {
      "cell_type": "code",
      "source": [
        "val_ds = load_dataset(\"val\")\n",
        "test_ds = load_dataset(\"test\")"
      ],
      "metadata": {
        "id": "ddQVYD9aRl7B"
      },
      "execution_count": null,
      "outputs": []
    },
    {
      "cell_type": "code",
      "source": [
        "next(iter(train_ds))[0].shape"
      ],
      "metadata": {
        "colab": {
          "base_uri": "https://localhost:8080/"
        },
        "id": "LGP81XBFd28x",
        "outputId": "41cfdd30-f3b5-4933-bcbb-3cadf407de70"
      },
      "execution_count": null,
      "outputs": [
        {
          "output_type": "execute_result",
          "data": {
            "text/plain": [
              "TensorShape([32, 32, 3])"
            ]
          },
          "metadata": {},
          "execution_count": 11
        }
      ]
    },
    {
      "cell_type": "code",
      "source": [
        "shuffle_buffer_size = 1000\n",
        "train_ds = train_ds.shuffle(shuffle_buffer_size)\n",
        "#test_ds = test_ds.shuffle(shuffle_buffer_size)\n",
        "#val_ds = val_ds.shuffle(shuffle_buffer_size)\n"
      ],
      "metadata": {
        "id": "Ryh-6b55RrBA"
      },
      "execution_count": null,
      "outputs": []
    },
    {
      "cell_type": "code",
      "source": [
        "train_ds.take(16)"
      ],
      "metadata": {
        "colab": {
          "base_uri": "https://localhost:8080/"
        },
        "id": "wnXUc-ERjoi9",
        "outputId": "1d8cb458-0827-44f8-b836-dfcc1c081aec"
      },
      "execution_count": null,
      "outputs": [
        {
          "output_type": "execute_result",
          "data": {
            "text/plain": [
              "<TakeDataset element_spec=(TensorSpec(shape=(32, 32, 3), dtype=tf.float32, name=None), TensorSpec(shape=(32, 32, 3), dtype=tf.float32, name=None))>"
            ]
          },
          "metadata": {},
          "execution_count": 11
        }
      ]
    },
    {
      "cell_type": "code",
      "source": [
        "for k,image in enumerate(train_ds.take(16)):\n",
        "  print(k)"
      ],
      "metadata": {
        "id": "YvUUPQCSQFPz",
        "colab": {
          "base_uri": "https://localhost:8080/"
        },
        "outputId": "cb4d73b0-0b02-4fa9-b584-98f5e5fad898"
      },
      "execution_count": null,
      "outputs": [
        {
          "output_type": "stream",
          "name": "stdout",
          "text": [
            "0\n",
            "1\n",
            "2\n",
            "3\n",
            "4\n",
            "5\n",
            "6\n",
            "7\n",
            "8\n",
            "9\n",
            "10\n",
            "11\n",
            "12\n",
            "13\n",
            "14\n",
            "15\n"
          ]
        }
      ]
    },
    {
      "cell_type": "code",
      "source": [
        ""
      ],
      "metadata": {
        "id": "QfPJ96QSvGPO"
      },
      "execution_count": null,
      "outputs": []
    },
    {
      "cell_type": "code",
      "source": [
        "#from google.colab.patches import cv2_imshow\n",
        "n_img = 4\n",
        "f,axs = plt.subplots(n_img,n_img,figsize = (14,14))\n",
        "img_no = 16\n",
        "for k,image in enumerate(train_ds.take(16)):\n",
        "  i = k//n_img\n",
        "  j = k%n_img\n",
        "  axs[i,j].imshow(image[0])\n",
        "  axs[i,j].axis(\"off\")\n",
        "f.subplots_adjust(wspace=0.01, hspace=0.03)"
      ],
      "metadata": {
        "colab": {
          "base_uri": "https://localhost:8080/",
          "height": 792
        },
        "id": "37IuZjC6TxXH",
        "outputId": "1811a21e-7739-4184-bf18-50add2081c97"
      },
      "execution_count": null,
      "outputs": [
        {
          "output_type": "display_data",
          "data": {
            "text/plain": [
              "<Figure size 1008x1008 with 16 Axes>"
            ],
            "image/png": "[encoded data removed]"
          },
          "metadata": {
            "needs_background": "light"
          }
        }
      ]
    },
    {
      "cell_type": "code",
      "source": [
        "batch_size = 64\n",
        "train_ds = train_ds.batch(batch_size)\n",
        "test_ds = test_ds.batch(batch_size)\n",
        "val_ds = val_ds.batch(batch_size)"
      ],
      "metadata": {
        "id": "qFNKbVb7TxZN"
      },
      "execution_count": null,
      "outputs": []
    },
    {
      "cell_type": "code",
      "source": [
        "def get_conv_resnet(input_shape,filters):\n",
        "    h0 = layers.Input(shape = input_shape)\n",
        "    h = layers.Conv2D(filters = filters,activation = \"relu\",kernel_size = (3,3),kernel_regularizer = l2(5e-5),padding = \"SAME\")(h0)\n",
        "    h = layers.BatchNormalization()(h)\n",
        "    h = layers.Conv2D(filters = input_shape[-1],activation = \"relu\",kernel_size = (3,3), kernel_regularizer = l2(5e-5),padding = \"SAME\")(h)\n",
        "    h = layers.BatchNormalization()(h)\n",
        "    \n",
        "    h1 = layers.Add()([h0,h])\n",
        "    h = layers.Conv2D(filters = filters,activation = \"relu\", kernel_size = (3,3),kernel_regularizer = l2(5e-5),padding = \"SAME\")(h)\n",
        "    h = layers.BatchNormalization()(h)\n",
        "    h = layers.Conv2D(filters = input_shape[-1],activation = \"relu\", kernel_size = (3,3),kernel_regularizer = l2(5e-5),padding = \"SAME\")(h)\n",
        "    h = layers.BatchNormalization()(h)\n",
        "    h = layers.Add()([h1,h])\n",
        "    h = layers.Conv2D(filters = 2*input_shape[-1],activation = \"relu\", kernel_size = (3,3),kernel_regularizer = l2(5e-5),padding = \"SAME\")(h)\n",
        "    h2 = layers.BatchNormalization()(h)\n",
        "    \n",
        "    shift,log_scale = layers.Lambda(lambda t: tf.split(t,num_or_size_splits = 2,axis = -1))(h2) \n",
        "    log_scale = layers.Activation(activation = \"tanh\")(log_scale)\n",
        "    \n",
        "    model = Model(inputs = h0, outputs = [shift,log_scale])\n",
        "    return model\n"
      ],
      "metadata": {
        "id": "rra7R0ojTxc3"
      },
      "execution_count": null,
      "outputs": []
    },
    {
      "cell_type": "code",
      "source": [
        "conv_resnet = get_conv_resnet((32,32,3),8)\n",
        "conv_resnet.summary()"
      ],
      "metadata": {
        "colab": {
          "base_uri": "https://localhost:8080/"
        },
        "id": "8aZfIPbIRrDV",
        "outputId": "a9928922-66d9-44a3-d7c0-529b36b3ef5c"
      },
      "execution_count": null,
      "outputs": [
        {
          "output_type": "stream",
          "name": "stdout",
          "text": [
            "Model: \"model\"\n",
            "__________________________________________________________________________________________________\n",
            " Layer (type)                   Output Shape         Param #     Connected to                     \n",
            "==================================================================================================\n",
            " input_1 (InputLayer)           [(None, 32, 32, 3)]  0           []                               \n",
            "                                                                                                  \n",
            " conv2d (Conv2D)                (None, 32, 32, 8)    224         ['input_1[0][0]']                \n",
            "                                                                                                  \n",
            " batch_normalization (BatchNorm  (None, 32, 32, 8)   32          ['conv2d[0][0]']                 \n",
            " alization)                                                                                       \n",
            "                                                                                                  \n",
            " conv2d_1 (Conv2D)              (None, 32, 32, 3)    219         ['batch_normalization[0][0]']    \n",
            "                                                                                                  \n",
            " batch_normalization_1 (BatchNo  (None, 32, 32, 3)   12          ['conv2d_1[0][0]']               \n",
            " rmalization)                                                                                     \n",
            "                                                                                                  \n",
            " conv2d_2 (Conv2D)              (None, 32, 32, 8)    224         ['batch_normalization_1[0][0]']  \n",
            "                                                                                                  \n",
            " batch_normalization_2 (BatchNo  (None, 32, 32, 8)   32          ['conv2d_2[0][0]']               \n",
            " rmalization)                                                                                     \n",
            "                                                                                                  \n",
            " conv2d_3 (Conv2D)              (None, 32, 32, 3)    219         ['batch_normalization_2[0][0]']  \n",
            "                                                                                                  \n",
            " add (Add)                      (None, 32, 32, 3)    0           ['input_1[0][0]',                \n",
            "                                                                  'batch_normalization_1[0][0]']  \n",
            "                                                                                                  \n",
            " batch_normalization_3 (BatchNo  (None, 32, 32, 3)   12          ['conv2d_3[0][0]']               \n",
            " rmalization)                                                                                     \n",
            "                                                                                                  \n",
            " add_1 (Add)                    (None, 32, 32, 3)    0           ['add[0][0]',                    \n",
            "                                                                  'batch_normalization_3[0][0]']  \n",
            "                                                                                                  \n",
            " conv2d_4 (Conv2D)              (None, 32, 32, 6)    168         ['add_1[0][0]']                  \n",
            "                                                                                                  \n",
            " batch_normalization_4 (BatchNo  (None, 32, 32, 6)   24          ['conv2d_4[0][0]']               \n",
            " rmalization)                                                                                     \n",
            "                                                                                                  \n",
            " lambda (Lambda)                [(None, 32, 32, 3),  0           ['batch_normalization_4[0][0]']  \n",
            "                                 (None, 32, 32, 3)]                                               \n",
            "                                                                                                  \n",
            " activation (Activation)        (None, 32, 32, 3)    0           ['lambda[0][1]']                 \n",
            "                                                                                                  \n",
            "==================================================================================================\n",
            "Total params: 1,166\n",
            "Trainable params: 1,110\n",
            "Non-trainable params: 56\n",
            "__________________________________________________________________________________________________\n"
          ]
        }
      ]
    },
    {
      "cell_type": "code",
      "source": [
        "tf.keras.utils.plot_model(conv_resnet, show_layer_names=False, rankdir='LR')"
      ],
      "metadata": {
        "colab": {
          "base_uri": "https://localhost:8080/",
          "height": 98
        },
        "id": "M30gNbO9RrFb",
        "outputId": "e177a5ff-5c01-4b16-a755-82e2338aa466"
      },
      "execution_count": null,
      "outputs": [
        {
          "output_type": "execute_result",
          "data": {
            "text/plain": [
              "<IPython.core.display.Image object>"
            ],
            "image/png": "[encoded data removed]"
          },
          "metadata": {},
          "execution_count": 17
        }
      ]
    },
    {
      "cell_type": "code",
      "source": [
        "print(conv_resnet(tf.random.normal((1, 32, 32, 3)))[0].shape)\n",
        "print(conv_resnet(tf.random.normal((1, 32, 32, 3)))[1].shape)"
      ],
      "metadata": {
        "colab": {
          "base_uri": "https://localhost:8080/"
        },
        "id": "gYDORABbRrHx",
        "outputId": "e3fead18-88a0-4da5-cba1-a36126dc5f53"
      },
      "execution_count": null,
      "outputs": [
        {
          "output_type": "stream",
          "name": "stdout",
          "text": [
            "(1, 32, 32, 3)\n",
            "(1, 32, 32, 3)\n"
          ]
        }
      ]
    },
    {
      "cell_type": "code",
      "source": [
        "def checkerboard_binary_mask(shape,orientation = 0):\n",
        "    height,width = shape[0],shape[1]\n",
        "    height_range = tf.range(height)\n",
        "    width_range = tf.range(width)\n",
        "    height_odd_index = tf.cast(tf.math.mod(height_range,2),dtype = tf.bool)\n",
        "    width_odd_index = tf.cast(tf.math.mod(width_range,2),dtype = tf.bool)\n",
        "    odd_rows = tf.tile(tf.expand_dims(height_odd_index,-1),[1,width])\n",
        "    odd_cols = tf.tile(tf.expand_dims(width_odd_index,0),[height,1])\n",
        "    checkerboard_mask = tf.math.logical_xor(odd_rows,odd_cols)\n",
        "    if orientation == 1:\n",
        "        checkerboard_mask = tf.math.logical_not(checkerboard_mask)\n",
        "    return tf.cast(tf.expand_dims(checkerboard_mask, -1), tf.float32)\n",
        "    "
      ],
      "metadata": {
        "id": "zsRcxszaRrJ3"
      },
      "execution_count": null,
      "outputs": []
    },
    {
      "cell_type": "code",
      "source": [
        "def channel_binary_mask(num_channels,orientation = 0):\n",
        "    channel_mask = tf.concat([tf.zeros((1,1,num_channels//2),dtype = tf.float32),\\\n",
        "                              tf.ones((1,1,num_channels - num_channels//2),dtype = tf.float32)],axis = -1)\n",
        "    if orientation == 1:\n",
        "        channel_mask = 1 - channel_mask\n",
        "    return channel_mask"
      ],
      "metadata": {
        "id": "26dDYS1-VlQ9"
      },
      "execution_count": null,
      "outputs": []
    },
    {
      "cell_type": "code",
      "source": [
        "## Checking the channel and checkerboard masks ##\n",
        "checkerboard_mask = checkerboard_binary_mask((4,4),orientation = 0)\n",
        "print(\"orientation - 0:\")\n",
        "print(tf.squeeze(checkerboard_mask))\n",
        "checkerboard_mask = checkerboard_binary_mask((4,4),orientation = 1)\n",
        "print(\"orientation - 1:\")\n",
        "print(tf.squeeze(checkerboard_mask))\n"
      ],
      "metadata": {
        "colab": {
          "base_uri": "https://localhost:8080/"
        },
        "id": "imDmY_YyWaGa",
        "outputId": "73da78f7-60c7-4fca-db2e-bf4150f6bd10"
      },
      "execution_count": null,
      "outputs": [
        {
          "output_type": "stream",
          "name": "stdout",
          "text": [
            "orientation - 0:\n",
            "tf.Tensor(\n",
            "[[0. 1. 0. 1.]\n",
            " [1. 0. 1. 0.]\n",
            " [0. 1. 0. 1.]\n",
            " [1. 0. 1. 0.]], shape=(4, 4), dtype=float32)\n",
            "orientation - 1:\n",
            "tf.Tensor(\n",
            "[[1. 0. 1. 0.]\n",
            " [0. 1. 0. 1.]\n",
            " [1. 0. 1. 0.]\n",
            " [0. 1. 0. 1.]], shape=(4, 4), dtype=float32)\n"
          ]
        }
      ]
    },
    {
      "cell_type": "code",
      "source": [
        "channel_mask = channel_binary_mask(6,orientation = 0)\n",
        "print(\"orientation - 0:\")\n",
        "print(channel_mask)\n",
        "channel_mask = channel_binary_mask(6,orientation = 1)\n",
        "print(\"orientation - 1:\")\n",
        "print(channel_mask)\n"
      ],
      "metadata": {
        "colab": {
          "base_uri": "https://localhost:8080/"
        },
        "id": "dy4jfptFZ0IO",
        "outputId": "09fc4b9d-ed73-4693-9a3c-3ad5af0ac851"
      },
      "execution_count": null,
      "outputs": [
        {
          "output_type": "stream",
          "name": "stdout",
          "text": [
            "orientation - 0:\n",
            "tf.Tensor([[[0. 0. 0. 1. 1. 1.]]], shape=(1, 1, 6), dtype=float32)\n",
            "orientation - 1:\n",
            "tf.Tensor([[[1. 1. 1. 0. 0. 0.]]], shape=(1, 1, 6), dtype=float32)\n"
          ]
        }
      ]
    },
    {
      "cell_type": "code",
      "source": [
        "def forward(x,b,shift_and_log_scale_fn):\n",
        "    t_shift,s_log_scale = shift_and_log_scale_fn(b*x)\n",
        "    return b*x + (1-b)*(x*tf.math.exp(s_log_scale) + t_shift)\n",
        "\n",
        "def inverse(y,b,shift_and_log_scale_fn):\n",
        "    t_shift,s_log_scale = shift_and_log_scale_fn(b*y)\n",
        "    return b*y + (1-b)*((y - t_shift)*tf.math.exp(-s_log_scale))\n",
        "\n",
        "def log_det_jacobian(x,b,shift_and_log_scale_fn):\n",
        "    t_shift,s_log_scale = shift_and_log_scale_fn(b*x)\n",
        "    return tf.reduce_sum((1-b)*s_log_scale,axis = [-1,-2,-3])\n",
        "\n",
        "def inv_log_det_jacobian(y,b,shift_and_log_scale_fn):\n",
        "    t_shift,s_log_scale = shift_and_log_scale_fn(b*y)\n",
        "    return -tf.reduce_sum((1-b)*s_log_scale,axis = [-1,-2,-3])\n"
      ],
      "metadata": {
        "id": "W7vADUx6VlTD"
      },
      "execution_count": null,
      "outputs": []
    },
    {
      "cell_type": "code",
      "source": [
        "class AffineCouplingLayer(tfb.Bijector):\n",
        "    \n",
        "    def __init__(self,shift_and_log_scale_fn,mask_type,orientation, **kwargs):\n",
        "        super(AffineCouplingLayer, self).__init__(forward_min_event_ndims=3, **kwargs)\n",
        "        self.shift_and_log_scale_fn = shift_and_log_scale_fn\n",
        "        self.mask_type = mask_type\n",
        "        self.orientation = orientation\n",
        "        \n",
        "    def _get_mask(self,shape):\n",
        "        if self.mask_type == \"channel\":\n",
        "            return channel_binary_mask(shape[-1],orientation = self.orientation)\n",
        "        return checkerboard_binary_mask(shape[1:],orientation = self.orientation)\n",
        "    \n",
        "    def _forward(self,x):\n",
        "        b = self._get_mask(x.shape)\n",
        "        return forward(x,b,self.shift_and_log_scale_fn)\n",
        "    \n",
        "    def _inverse(self,y):\n",
        "        b = self._get_mask(y.shape)\n",
        "        return inverse(y,b,self.shift_and_log_scale_fn)\n",
        "    \n",
        "    def _forward_log_det_jacobian(self,x):\n",
        "        b = self._get_mask(x.shape)\n",
        "        return log_det_jacobian(x,b,self.shift_and_log_scale_fn)\n",
        "    \n",
        "    def _inverse_log_det_jacobian(self,y):\n",
        "        b = self._get_mask(y.shape)\n",
        "        return inv_log_det_jacobian(y,b,self.shift_and_log_scale_fn)"
      ],
      "metadata": {
        "id": "FbI73T_hVlVe"
      },
      "execution_count": null,
      "outputs": []
    },
    {
      "cell_type": "code",
      "source": [
        "class Squeeze(tfb.Bijector):\n",
        "    \n",
        "    def __init__(self, name='Squeeze', **kwargs):\n",
        "        super(Squeeze, self).__init__(forward_min_event_ndims=3, is_constant_jacobian=True, \n",
        "                                      name=name, **kwargs)\n",
        "\n",
        "    def _forward(self, x):\n",
        "        input_shape = x.shape\n",
        "        height, width, channels = input_shape[-3:]\n",
        "        y = tfb.Reshape((height // 2, 2, width // 2, 2, channels), event_shape_in=(height, width, channels))(x)\n",
        "        y = tfb.Transpose(perm=[0, 2, 1, 3, 4])(y)\n",
        "        y = tfb.Reshape((height // 2, width // 2, 4 * channels),\n",
        "                        event_shape_in=(height // 2, width // 2, 2, 2, channels))(y)\n",
        "        return y\n",
        "\n",
        "    def _inverse(self, y):\n",
        "        input_shape = y.shape\n",
        "        height, width, channels = input_shape[-3:]\n",
        "        x = tfb.Reshape((height, width, 2, 2, channels // 4), event_shape_in=(height, width, channels))(y)\n",
        "        x = tfb.Transpose(perm=[0, 2, 1, 3, 4])(x)\n",
        "        x = tfb.Reshape((2 * height, 2 * width, channels // 4),\n",
        "                        event_shape_in=(height, 2, width, 2, channels // 4))(x)\n",
        "        return x\n",
        "\n",
        "    def _forward_log_det_jacobian(self, x):\n",
        "        return tf.constant(0., x.dtype)\n",
        "\n",
        "    def _inverse_log_det_jacobian(self, y):\n",
        "        return tf.constant(0., y.dtype)\n",
        "\n",
        "    def _forward_event_shape_tensor(self, input_shape):\n",
        "        height, width, channels = input_shape[-3], input_shape[-2], input_shape[-1]\n",
        "        return height // 2, width // 2, 4 * channels\n",
        "\n",
        "    def _inverse_event_shape_tensor(self, output_shape):\n",
        "        height, width, channels = output_shape[-3], output_shape[-2], output_shape[-1]\n",
        "        return height * 2, width * 2, channels // 4"
      ],
      "metadata": {
        "id": "UzlMmQrAgBqj"
      },
      "execution_count": null,
      "outputs": []
    },
    {
      "cell_type": "code",
      "source": [
        "def realnvp_block(shift_and_log_scale_fns,squeeze):\n",
        "    block = [AffineCouplingLayer(shift_and_log_scale_fns[0],\"checkerboard\",orientation = 0),\n",
        "             AffineCouplingLayer(shift_and_log_scale_fns[1],\"checkerboard\",orientation = 1),\n",
        "             AffineCouplingLayer(shift_and_log_scale_fns[2],\"checkerboard\",orientation = 0),\n",
        "             tfb.BatchNormalization(),\n",
        "             squeeze,\n",
        "             AffineCouplingLayer(shift_and_log_scale_fns[3],\"channel\",orientation = 0),\n",
        "             AffineCouplingLayer(shift_and_log_scale_fns[4],\"channel\",orientation = 1),\n",
        "             AffineCouplingLayer(shift_and_log_scale_fns[5],\"channel\",orientation = 0),\n",
        "             tfb.BatchNormalization()\n",
        "            ]\n",
        "    return tfb.Chain(list(reversed(block)))"
      ],
      "metadata": {
        "id": "EA_YabNeVlXq"
      },
      "execution_count": null,
      "outputs": []
    },
    {
      "cell_type": "code",
      "source": [
        "squeeze = Squeeze()\n",
        "squeeze(tf.ones((10, 32, 32, 3))).shape"
      ],
      "metadata": {
        "colab": {
          "base_uri": "https://localhost:8080/"
        },
        "id": "xIknWDXZjWaj",
        "outputId": "97c31417-32ec-45a7-f003-5507f696bbc4"
      },
      "execution_count": null,
      "outputs": [
        {
          "output_type": "execute_result",
          "data": {
            "text/plain": [
              "TensorShape([10, 16, 16, 12])"
            ]
          },
          "metadata": {},
          "execution_count": 26
        }
      ]
    },
    {
      "cell_type": "code",
      "source": [
        "squeeze.inverse(tf.ones((10,16,16,12))).shape"
      ],
      "metadata": {
        "colab": {
          "base_uri": "https://localhost:8080/"
        },
        "id": "auuxbcbBjiv6",
        "outputId": "ab2ed058-6ad0-4b91-cd72-6e494e202e11"
      },
      "execution_count": null,
      "outputs": [
        {
          "output_type": "execute_result",
          "data": {
            "text/plain": [
              "TensorShape([10, 32, 32, 3])"
            ]
          },
          "metadata": {},
          "execution_count": 28
        }
      ]
    },
    {
      "cell_type": "code",
      "source": [
        "# Run your function to create an instance of the bijector\n",
        "\n",
        "checkerboard_fns = []\n",
        "for _ in range(3):\n",
        "    checkerboard_fns.append(get_conv_resnet((32, 32, 3), 512))\n",
        "channel_fns = []\n",
        "for _ in range(3):\n",
        "    channel_fns.append(get_conv_resnet((16, 16, 12), 512))\n",
        "    \n",
        "block = realnvp_block(checkerboard_fns + channel_fns, squeeze)"
      ],
      "metadata": {
        "id": "U1pNsYzIVlZ2"
      },
      "execution_count": null,
      "outputs": []
    },
    {
      "cell_type": "code",
      "source": [
        "block.forward(tf.random.normal((10, 32, 32, 3))).shape"
      ],
      "metadata": {
        "colab": {
          "base_uri": "https://localhost:8080/"
        },
        "id": "mIJlNa-zVlcd",
        "outputId": "99803a24-31a5-44e5-fa61-800571cf250d"
      },
      "execution_count": null,
      "outputs": [
        {
          "output_type": "execute_result",
          "data": {
            "text/plain": [
              "TensorShape([10, 16, 16, 12])"
            ]
          },
          "metadata": {},
          "execution_count": 28
        }
      ]
    },
    {
      "cell_type": "code",
      "source": [
        "class RealNVPMultiScale(tfb.Bijector):\n",
        "    \n",
        "    def __init__(self, **kwargs):\n",
        "        super(RealNVPMultiScale, self).__init__(forward_min_event_ndims=3, **kwargs)\n",
        "\n",
        "        # First level\n",
        "        shape1 = (32, 32, 3)  # Input shape\n",
        "        shape2 = (16, 16, 12)  # Shape after the squeeze operation\n",
        "        shape3 = (16, 16, 6)  # Shape after factoring out the latent variable\n",
        "        self.conv_resnet1 = get_conv_resnet(shape1, 64)\n",
        "        self.conv_resnet2 = get_conv_resnet(shape1, 64)\n",
        "        self.conv_resnet3 = get_conv_resnet(shape1, 64)\n",
        "        self.conv_resnet4 = get_conv_resnet(shape2, 128)\n",
        "        self.conv_resnet5 = get_conv_resnet(shape2, 128)\n",
        "        self.conv_resnet6 = get_conv_resnet(shape2, 128)\n",
        "        self.squeeze = Squeeze()\n",
        "        self.block1 = realnvp_block([self.conv_resnet1, self.conv_resnet2,\n",
        "                                    self.conv_resnet3, self.conv_resnet4,\n",
        "                                    self.conv_resnet5, self.conv_resnet6], self.squeeze)\n",
        "\n",
        "        # Second level\n",
        "        self.conv_resnet7 = get_conv_resnet(shape3, 128)\n",
        "        self.conv_resnet8 = get_conv_resnet(shape3, 128)\n",
        "        self.conv_resnet9 = get_conv_resnet(shape3, 128)\n",
        "        self.conv_resnet10 = get_conv_resnet(shape3, 128)\n",
        "        self.coupling_layer1 = AffineCouplingLayer(self.conv_resnet7, 'checkerboard', 0)\n",
        "        self.coupling_layer2 = AffineCouplingLayer(self.conv_resnet8, 'checkerboard', 1)\n",
        "        self.coupling_layer3 = AffineCouplingLayer(self.conv_resnet9, 'checkerboard', 0)\n",
        "        self.coupling_layer4 = AffineCouplingLayer(self.conv_resnet10, 'checkerboard', 1)\n",
        "        self.block2 = tfb.Chain([self.coupling_layer4, self.coupling_layer3,\n",
        "                                 self.coupling_layer2, self.coupling_layer1])\n",
        "\n",
        "    def _forward(self, x):\n",
        "        h1 = self.block1.forward(x)\n",
        "        z1, h2 = tf.split(h1, 2, axis=-1)\n",
        "        z2 = self.block2.forward(h2)\n",
        "        return tf.concat([z1, z2], axis=-1)\n",
        "        \n",
        "    def _inverse(self, y):\n",
        "        z1, z2 = tf.split(y, 2, axis=-1)\n",
        "        h2 = self.block2.inverse(z2)\n",
        "        h1 = tf.concat([z1, h2], axis=-1)\n",
        "        return self.block1.inverse(h1)\n",
        "\n",
        "    def _forward_log_det_jacobian(self, x):\n",
        "        log_det1 = self.block1.forward_log_det_jacobian(x, event_ndims=3)\n",
        "        h1 = self.block1.forward(x)\n",
        "        _, h2 = tf.split(h1, 2, axis=-1)\n",
        "        log_det2 = self.block2.forward_log_det_jacobian(h2, event_ndims=3)\n",
        "        return log_det1 + log_det2\n",
        "\n",
        "    def _inverse_log_det_jacobian(self, y):\n",
        "        z1, z2 = tf.split(y, 2, axis=-1)\n",
        "        h2 = self.block2.inverse(z2)\n",
        "        log_det2 = self.block2.inverse_log_det_jacobian(z2, event_ndims=3)\n",
        "        h1 = tf.concat([z1, h2], axis=-1)\n",
        "        log_det1 = self.block1.inverse_log_det_jacobian(h1, event_ndims=3)\n",
        "        return log_det1 + log_det2\n",
        "\n",
        "    def _forward_event_shape_tensor(self, input_shape):\n",
        "        height, width, channels = input_shape[-3], input_shape[-2], input_shape[-1]\n",
        "        return height // 4, width // 4, 16 * channels\n",
        "\n",
        "    def _inverse_event_shape_tensor(self, output_shape):\n",
        "        height, width, channels = output_shape[-3], output_shape[-2], output_shape[-1]\n",
        "        return 4 * height, 4 * width, channels // 16"
      ],
      "metadata": {
        "id": "yEVT4kY8VleC"
      },
      "execution_count": null,
      "outputs": []
    },
    {
      "cell_type": "code",
      "source": [
        "multiscale_bijector = RealNVPMultiScale()"
      ],
      "metadata": {
        "id": "JeWGoEHVVlgU"
      },
      "execution_count": null,
      "outputs": []
    },
    {
      "cell_type": "code",
      "source": [
        "def get_preprocess_bijector(alpha):\n",
        "    return tfb.Chain([tfb.Invert(tfb.Sigmoid()),tfb.Shift(alpha),tfb.Scale(1-2*alpha)])"
      ],
      "metadata": {
        "id": "4UCXtH84Vljs"
      },
      "execution_count": null,
      "outputs": []
    },
    {
      "cell_type": "code",
      "source": [
        "preprocess = get_preprocess_bijector(0.05)"
      ],
      "metadata": {
        "id": "a_yoBJtdm7h7"
      },
      "execution_count": null,
      "outputs": []
    },
    {
      "cell_type": "code",
      "source": [
        "class RealNVPModel(Model):\n",
        "\n",
        "    def __init__(self, **kwargs):\n",
        "        super(RealNVPModel, self).__init__(**kwargs)\n",
        "        self.preprocess = get_preprocess_bijector(0.05)\n",
        "        self.realnvp_multiscale = RealNVPMultiScale()\n",
        "        self.bijector = tfb.Chain([self.realnvp_multiscale, self.preprocess])\n",
        "        \n",
        "    def build(self, input_shape):\n",
        "        output_shape = self.bijector(tf.expand_dims(tf.zeros(input_shape[1:]), axis=0)).shape\n",
        "        self.base = tfd.Independent(tfd.Normal(loc=tf.zeros(output_shape[1:]), scale=1.),\n",
        "                                    reinterpreted_batch_ndims=3)\n",
        "        self._bijector_variables = (\n",
        "            list(self.bijector.variables))\n",
        "        self.flow = tfd.TransformedDistribution(\n",
        "            distribution=self.base,\n",
        "            bijector=tfb.Invert(self.bijector),\n",
        "        )\n",
        "        super(RealNVPModel, self).build(input_shape)\n",
        "\n",
        "    def call(self, inputs, training=None, **kwargs):\n",
        "        return self.flow\n",
        "\n",
        "    def sample(self, batch_size):\n",
        "        sample = self.base.sample(batch_size)\n",
        "        return self.bijector.inverse(sample)"
      ],
      "metadata": {
        "id": "gNWVt9PjRrL6"
      },
      "execution_count": null,
      "outputs": []
    },
    {
      "cell_type": "code",
      "source": [
        "def nll(y_true, y_pred):\n",
        "    return -y_pred.log_prob(y_true)"
      ],
      "metadata": {
        "id": "DmEFinSeuAfG"
      },
      "execution_count": null,
      "outputs": []
    },
    {
      "cell_type": "code",
      "source": [
        "realnvp_model = RealNVPModel()\n",
        "realnvp_model.build((1, 32, 32, 3))"
      ],
      "metadata": {
        "id": "UBOvSZdynSt3"
      },
      "execution_count": null,
      "outputs": []
    },
    {
      "cell_type": "code",
      "source": [
        "next(iter(train_ds))[0].shape"
      ],
      "metadata": {
        "colab": {
          "base_uri": "https://localhost:8080/"
        },
        "id": "7WQBrryOEGxI",
        "outputId": "d56fbd62-2f3f-4579-b15a-031b3a80b4eb"
      },
      "execution_count": null,
      "outputs": [
        {
          "output_type": "execute_result",
          "data": {
            "text/plain": [
              "TensorShape([64, 32, 32, 3])"
            ]
          },
          "metadata": {},
          "execution_count": 42
        }
      ]
    },
    {
      "cell_type": "code",
      "source": [
        "next(iter(val_ds))[0].shape"
      ],
      "metadata": {
        "colab": {
          "base_uri": "https://localhost:8080/"
        },
        "id": "l4NEZjesEJxz",
        "outputId": "5111d936-8350-4ec3-a0a9-18042cf9349d"
      },
      "execution_count": null,
      "outputs": [
        {
          "output_type": "execute_result",
          "data": {
            "text/plain": [
              "TensorShape([64, 32, 32, 3])"
            ]
          },
          "metadata": {},
          "execution_count": 43
        }
      ]
    },
    {
      "cell_type": "code",
      "source": [
        ""
      ],
      "metadata": {
        "id": "HOh-7eu1GG3P"
      },
      "execution_count": null,
      "outputs": []
    },
    {
      "cell_type": "code",
      "source": [
        "optimizer = Adam()\n",
        "realnvp_model.compile(loss=nll, optimizer=Adam())\n",
        "realnvp_model.fit(train_ds,epochs= 15)  #validation_data=val_ds"
      ],
      "metadata": {
        "colab": {
          "base_uri": "https://localhost:8080/"
        },
        "id": "xhQhNC_ot4Wm",
        "outputId": "ba9a0b75-218f-42cb-9501-120d053499c9"
      },
      "execution_count": null,
      "outputs": [
        {
          "output_type": "stream",
          "name": "stdout",
          "text": [
            "Epoch 1/15\n",
            "938/938 [==============================] - 189s 183ms/step - loss: 1020.7466\n",
            "Epoch 2/15\n",
            "938/938 [==============================] - 173s 183ms/step - loss: -3040.1162\n",
            "Epoch 3/15\n",
            "938/938 [==============================] - 173s 183ms/step - loss: -4306.5259\n",
            "Epoch 4/15\n",
            "938/938 [==============================] - 174s 185ms/step - loss: -5184.5615\n",
            "Epoch 5/15\n",
            "938/938 [==============================] - 172s 182ms/step - loss: -5743.1426\n",
            "Epoch 6/15\n",
            "938/938 [==============================] - 173s 183ms/step - loss: -6067.8745\n",
            "Epoch 7/15\n",
            "938/938 [==============================] - 172s 182ms/step - loss: -6352.7749\n",
            "Epoch 8/15\n",
            "938/938 [==============================] - 173s 184ms/step - loss: -6490.4551\n",
            "Epoch 9/15\n",
            "938/938 [==============================] - 173s 184ms/step - loss: -6638.9497\n",
            "Epoch 10/15\n",
            "938/938 [==============================] - 173s 184ms/step - loss: -6760.9014\n",
            "Epoch 11/15\n",
            "938/938 [==============================] - 173s 183ms/step - loss: -6826.5732\n",
            "Epoch 12/15\n",
            "860/938 [==========================>...] - ETA: 14s - loss: -6935.2681"
          ]
        }
      ]
    },
    {
      "cell_type": "code",
      "source": [
        "realnvp_model.evaluate(test_ds)"
      ],
      "metadata": {
        "id": "vd7Tiy40HWzW",
        "colab": {
          "base_uri": "https://localhost:8080/"
        },
        "outputId": "a40f034e-8560-4639-f965-62721c456d13"
      },
      "execution_count": null,
      "outputs": [
        {
          "output_type": "stream",
          "name": "stdout",
          "text": [
            "157/157 [==============================] - 3421s 22s/step - loss: -7178.2490\n"
          ]
        },
        {
          "output_type": "execute_result",
          "data": {
            "text/plain": [
              "-7178.2490234375"
            ]
          },
          "metadata": {},
          "execution_count": 47
        }
      ]
    },
    {
      "cell_type": "code",
      "source": [
        "realnvp_model.sample(1)"
      ],
      "metadata": {
        "id": "RevieADpHXAi",
        "colab": {
          "base_uri": "https://localhost:8080/"
        },
        "outputId": "5b9b1d7b-cc70-40f1-b045-3daa1539fe50"
      },
      "execution_count": null,
      "outputs": [
        {
          "output_type": "stream",
          "name": "stderr",
          "text": [
            "/usr/local/lib/python3.7/dist-packages/tensorflow_probability/python/bijectors/batch_normalization.py:210: UserWarning: `layer.apply` is deprecated and will be removed in a future version. Please use `layer.__call__` method instead.\n",
            "  return self.batchnorm.apply(y, training=self._training)\n"
          ]
        },
        {
          "output_type": "execute_result",
          "data": {
            "text/plain": [
              "<tf.Tensor: shape=(1, 32, 32, 3), dtype=float32, numpy=\n",
              "array([[[[ 0.6900055 ,  0.91580135,  0.8555693 ],\n",
              "         [ 0.4977072 ,  0.38227084,  0.39814308],\n",
              "         [ 0.7359779 ,  0.7849011 ,  0.9236828 ],\n",
              "         ...,\n",
              "         [ 0.3112649 , -0.02281338,  0.19481389],\n",
              "         [ 0.93064475,  0.7403265 ,  0.7709512 ],\n",
              "         [ 0.25800365, -0.01384397,  0.02450093]],\n",
              "\n",
              "        [[ 0.75568026,  0.51928264,  0.7755454 ],\n",
              "         [ 0.45296237,  0.27822676,  0.53354985],\n",
              "         [ 0.8440837 ,  0.39442915,  0.9039791 ],\n",
              "         ...,\n",
              "         [ 0.84826756,  0.49876237,  0.80942136],\n",
              "         [ 0.97639   ,  0.5319809 ,  0.86203337],\n",
              "         [ 0.87465584,  0.6920989 ,  0.66867965]],\n",
              "\n",
              "        [[ 0.5190884 ,  0.14798343,  0.56627417],\n",
              "         [ 0.13351099,  0.02587593,  0.24394356],\n",
              "         [ 0.8019702 ,  0.62845033,  0.984846  ],\n",
              "         ...,\n",
              "         [ 0.7197219 ,  0.0886539 ,  0.47472548],\n",
              "         [ 0.61788213,  0.21573709,  0.44496283],\n",
              "         [ 0.6993779 ,  0.07988756,  0.23769139]],\n",
              "\n",
              "        ...,\n",
              "\n",
              "        [[ 0.7570867 ,  0.29138568,  0.61751133],\n",
              "         [ 0.8136498 ,  0.44998008,  0.6913954 ],\n",
              "         [ 0.8459454 ,  0.6566881 ,  0.85092723],\n",
              "         ...,\n",
              "         [ 0.7604615 ,  0.4137798 ,  0.6532056 ],\n",
              "         [ 0.8389428 ,  0.4405388 ,  0.5760627 ],\n",
              "         [ 0.56584   ,  0.2960514 ,  0.2925919 ]],\n",
              "\n",
              "        [[ 0.8420052 ,  0.41868848,  0.943434  ],\n",
              "         [ 0.18050677, -0.02462479,  0.06828197],\n",
              "         [ 0.9093134 ,  0.7528866 ,  0.91118294],\n",
              "         ...,\n",
              "         [ 0.79045075,  0.44093096,  0.6650471 ],\n",
              "         [ 0.8563888 ,  0.7200474 ,  0.6633601 ],\n",
              "         [ 0.63900465,  0.36378133,  0.28927964]],\n",
              "\n",
              "        [[ 0.58325815,  0.05862108,  0.52287513],\n",
              "         [ 0.53551024,  0.18133348,  0.48292112],\n",
              "         [ 0.78703433,  0.35433948,  0.79044574],\n",
              "         ...,\n",
              "         [ 0.61040974,  0.22181231,  0.54481626],\n",
              "         [ 0.8750365 ,  0.72217107,  0.74220693],\n",
              "         [ 0.60932547,  0.29885116,  0.2801004 ]]]], dtype=float32)>"
            ]
          },
          "metadata": {},
          "execution_count": 48
        }
      ]
    },
    {
      "cell_type": "code",
      "source": [
        ""
      ],
      "metadata": {
        "id": "sp2yJpbmt4ZH"
      },
      "execution_count": null,
      "outputs": []
    },
    {
      "cell_type": "code",
      "source": [
        ""
      ],
      "metadata": {
        "id": "37difag4t4cm"
      },
      "execution_count": null,
      "outputs": []
    },
    {
      "cell_type": "code",
      "source": [
        "kl = realnvp_model(tf.ones((1,32,32,3)))\n",
        "kl"
      ],
      "metadata": {
        "colab": {
          "base_uri": "https://localhost:8080/"
        },
        "id": "Ntj40yDsnASq",
        "outputId": "9752ba2e-f473-46ac-d1d9-3d53c8aa660c"
      },
      "execution_count": null,
      "outputs": [
        {
          "output_type": "execute_result",
          "data": {
            "text/plain": [
              "<tfp.distributions._TransformedDistribution 'invert_chain_of_real_nvp_multi_scale_of_chain_of_invert_sigmoid_of_shift_of_scaleIndependentNormal' batch_shape=[] event_shape=[16, 16, 12] dtype=float32>"
            ]
          },
          "metadata": {},
          "execution_count": 80
        }
      ]
    },
    {
      "cell_type": "code",
      "source": [
        "kl.log_prob(y_true)"
      ],
      "metadata": {
        "colab": {
          "base_uri": "https://localhost:8080/"
        },
        "id": "2MntU4qjnAU9",
        "outputId": "d5d24b30-1fa1-4cdb-9760-fe7a382b05e7"
      },
      "execution_count": null,
      "outputs": [
        {
          "output_type": "execute_result",
          "data": {
            "text/plain": [
              "<tf.Tensor: shape=(1,), dtype=float32, numpy=array([-844098.44], dtype=float32)>"
            ]
          },
          "metadata": {},
          "execution_count": 81
        }
      ]
    },
    {
      "cell_type": "code",
      "source": [
        "y_true.shape"
      ],
      "metadata": {
        "colab": {
          "base_uri": "https://localhost:8080/"
        },
        "id": "yMgJ8jnbnAXc",
        "outputId": "6e94f5c7-c2b3-4b8c-923a-edfa48f75305"
      },
      "execution_count": null,
      "outputs": [
        {
          "output_type": "execute_result",
          "data": {
            "text/plain": [
              "TensorShape([1, 32, 32, 3])"
            ]
          },
          "metadata": {},
          "execution_count": 75
        }
      ]
    },
    {
      "cell_type": "code",
      "source": [
        ""
      ],
      "metadata": {
        "id": "-nk3EtIknAax"
      },
      "execution_count": null,
      "outputs": []
    },
    {
      "cell_type": "code",
      "source": [
        "\n",
        "print(\"Total trainable variables:\")\n",
        "print(sum([np.prod(v.shape) for v in realnvp_model.trainable_variables]))"
      ],
      "metadata": {
        "colab": {
          "base_uri": "https://localhost:8080/"
        },
        "id": "UIVm4zZWnSv0",
        "outputId": "d4eaa4d5-c56d-4c3a-a182-98f7487ff452"
      },
      "execution_count": null,
      "outputs": [
        {
          "output_type": "stream",
          "name": "stdout",
          "text": [
            "Total trainable variables:\n",
            "315456\n"
          ]
        }
      ]
    },
    {
      "cell_type": "code",
      "source": [
        "def nll(y_true, y_pred):\n",
        "    return -y_pred.log_prob(y_true)"
      ],
      "metadata": {
        "id": "SwybN31RnSyJ"
      },
      "execution_count": null,
      "outputs": []
    },
    {
      "cell_type": "code",
      "source": [
        "img = next(iter(train_ds))\n"
      ],
      "metadata": {
        "id": "oZSdj5jp4etm"
      },
      "execution_count": null,
      "outputs": []
    },
    {
      "cell_type": "code",
      "source": [
        "plt.imshow(img[0][0])"
      ],
      "metadata": {
        "colab": {
          "base_uri": "https://localhost:8080/",
          "height": 283
        },
        "id": "SHoC8dy54ewC",
        "outputId": "99242963-87d7-4906-cbd1-ab94e1aab513"
      },
      "execution_count": null,
      "outputs": [
        {
          "output_type": "execute_result",
          "data": {
            "text/plain": [
              "<matplotlib.image.AxesImage at 0x7fe83c89a550>"
            ]
          },
          "metadata": {},
          "execution_count": 59
        },
        {
          "output_type": "display_data",
          "data": {
            "text/plain": [
              "<Figure size 432x288 with 1 Axes>"
            ],
            "image/png": "[encoded data removed]"
          },
          "metadata": {
            "needs_background": "light"
          }
        }
      ]
    },
    {
      "cell_type": "code",
      "source": [
        "plt.imshow(img[1][0])"
      ],
      "metadata": {
        "colab": {
          "base_uri": "https://localhost:8080/",
          "height": 283
        },
        "id": "trlnwK1u4eyV",
        "outputId": "cdde0e27-f742-4bed-9713-6305e667958c"
      },
      "execution_count": null,
      "outputs": [
        {
          "output_type": "execute_result",
          "data": {
            "text/plain": [
              "<matplotlib.image.AxesImage at 0x7fe83c8940d0>"
            ]
          },
          "metadata": {},
          "execution_count": 60
        },
        {
          "output_type": "display_data",
          "data": {
            "text/plain": [
              "<Figure size 432x288 with 1 Axes>"
            ],
            "image/png": "[encoded data removed]"
          },
          "metadata": {
            "needs_background": "light"
          }
        }
      ]
    },
    {
      "cell_type": "code",
      "source": [
        "img_0 = next(iter(train_ds))\n",
        "print(len(img_0))"
      ],
      "metadata": {
        "id": "gu_Xw_6W4e0J",
        "colab": {
          "base_uri": "https://localhost:8080/"
        },
        "outputId": "a32f6545-d12e-4ba8-f342-76c7ec6a65c6"
      },
      "execution_count": null,
      "outputs": [
        {
          "output_type": "stream",
          "name": "stdout",
          "text": [
            "2\n"
          ]
        }
      ]
    },
    {
      "cell_type": "code",
      "source": [
        "kk = realnvp_model(img_0[0][1])\n",
        "kk"
      ],
      "metadata": {
        "id": "ZGoel3Ry9D73",
        "colab": {
          "base_uri": "https://localhost:8080/"
        },
        "outputId": "e6b6dda2-0982-4d15-ebb1-5e84015b785c"
      },
      "execution_count": null,
      "outputs": [
        {
          "output_type": "execute_result",
          "data": {
            "text/plain": [
              "<tfp.distributions._TransformedDistribution 'invert_chain_of_chain_of_invert_sigmoid_of_shift_of_scale_of_real_nvp_multi_scaleIndependentNormal' batch_shape=[] event_shape=[16, 16, 12] dtype=float32>"
            ]
          },
          "metadata": {},
          "execution_count": 68
        }
      ]
    },
    {
      "cell_type": "code",
      "source": [
        "y_true = tf.expand_dims(img_0[0][1],axis = 0)\n",
        "y_true.shape"
      ],
      "metadata": {
        "id": "nQ-ztYtF9D9_",
        "colab": {
          "base_uri": "https://localhost:8080/"
        },
        "outputId": "172d2224-261a-4963-8f6b-3ed8df4ca45c"
      },
      "execution_count": null,
      "outputs": [
        {
          "output_type": "execute_result",
          "data": {
            "text/plain": [
              "TensorShape([1, 32, 32, 3])"
            ]
          },
          "metadata": {},
          "execution_count": 76
        }
      ]
    },
    {
      "cell_type": "code",
      "source": [
        "nll(y_true,kl)"
      ],
      "metadata": {
        "id": "g2mmYEco9D_t",
        "colab": {
          "base_uri": "https://localhost:8080/"
        },
        "outputId": "c7b8f2ef-c092-4aa7-a2b2-4719d4f87ccf"
      },
      "execution_count": null,
      "outputs": [
        {
          "output_type": "execute_result",
          "data": {
            "text/plain": [
              "<tf.Tensor: shape=(1,), dtype=float32, numpy=array([nan], dtype=float32)>"
            ]
          },
          "metadata": {},
          "execution_count": 77
        }
      ]
    },
    {
      "cell_type": "code",
      "source": [
        "-kk.log_prob(y_true)"
      ],
      "metadata": {
        "id": "IQjS4qGP9EDK",
        "colab": {
          "base_uri": "https://localhost:8080/"
        },
        "outputId": "18f01521-6551-4765-efcb-c99f30faa273"
      },
      "execution_count": null,
      "outputs": [
        {
          "output_type": "execute_result",
          "data": {
            "text/plain": [
              "<tf.Tensor: shape=(1,), dtype=float32, numpy=array([nan], dtype=float32)>"
            ]
          },
          "metadata": {},
          "execution_count": 67
        }
      ]
    },
    {
      "cell_type": "code",
      "source": [
        ""
      ],
      "metadata": {
        "id": "O-NAD3I94e2l"
      },
      "execution_count": null,
      "outputs": []
    },
    {
      "cell_type": "code",
      "source": [
        ""
      ],
      "metadata": {
        "id": "32gXXDq_4e6B"
      },
      "execution_count": null,
      "outputs": []
    },
    {
      "cell_type": "code",
      "source": [
        ""
      ],
      "metadata": {
        "colab": {
          "base_uri": "https://localhost:8080/"
        },
        "id": "Gauqz1ugnS0Y",
        "outputId": "1f5fc2f8-0b96-46eb-83b0-9bf2b8ea4d0c"
      },
      "execution_count": null,
      "outputs": [
        {
          "output_type": "stream",
          "name": "stdout",
          "text": [
            "Epoch 1/30\n",
            " 66/938 [=>............................] - ETA: 5:38:03 - loss: nan"
          ]
        }
      ]
    },
    {
      "cell_type": "code",
      "source": [
        ""
      ],
      "metadata": {
        "id": "SKX7MDXE2V3P"
      },
      "execution_count": null,
      "outputs": []
    },
    {
      "cell_type": "code",
      "source": [
        ""
      ],
      "metadata": {
        "id": "RUMCLtwX2X0B"
      },
      "execution_count": null,
      "outputs": []
    },
    {
      "cell_type": "code",
      "source": [
        ""
      ],
      "metadata": {
        "id": "BoyzHeNPnS3z"
      },
      "execution_count": null,
      "outputs": []
    },
    {
      "cell_type": "code",
      "source": [
        ""
      ],
      "metadata": {
        "id": "YTELWl_lRrPX"
      },
      "execution_count": null,
      "outputs": []
    },
    {
      "cell_type": "code",
      "source": [
        "def load_dataset(split):\n",
        "  train_list_ds = tf.data.Dataset.list_files(\"/content/drive/MyDrive/LSUN_Test/{}/*.jpg\".format(split),shuffle = False)\n",
        "  return train_list_ds\n"
      ],
      "metadata": {
        "id": "ePpPjAD1irH3"
      },
      "execution_count": null,
      "outputs": []
    },
    {
      "cell_type": "code",
      "source": [
        ""
      ],
      "metadata": {
        "id": "LPDR31UoRqZ5"
      },
      "execution_count": null,
      "outputs": []
    },
    {
      "cell_type": "code",
      "source": [
        ""
      ],
      "metadata": {
        "id": "v3Zo-m08RqdR"
      },
      "execution_count": null,
      "outputs": []
    },
    {
      "cell_type": "code",
      "source": [
        "split = \"train\"\n",
        "train_list_ds = load_dataset(\"train\")"
      ],
      "metadata": {
        "id": "AY-0sgIEOGPi"
      },
      "execution_count": null,
      "outputs": []
    },
    {
      "cell_type": "code",
      "source": [
        "\n",
        "print('/content/drive/MyDrive/lsun_bedroom/{}/.jpg'.format(split))"
      ],
      "metadata": {
        "id": "yy6pmgBCOGRZ"
      },
      "execution_count": null,
      "outputs": []
    },
    {
      "cell_type": "code",
      "source": [
        "train_ds = train_list_ds.map(load_image)"
      ],
      "metadata": {
        "id": "ObHXbjbROGTf"
      },
      "execution_count": null,
      "outputs": []
    },
    {
      "cell_type": "code",
      "source": [
        "val_ds = load_dataset(\"val\")\n",
        "test_ds = load_dataset(\"test\")"
      ],
      "metadata": {
        "id": "uFnvPfVSOGVw"
      },
      "execution_count": null,
      "outputs": []
    },
    {
      "cell_type": "code",
      "source": [
        ""
      ],
      "metadata": {
        "id": "gts-Y-A8OGX6"
      },
      "execution_count": null,
      "outputs": []
    },
    {
      "cell_type": "code",
      "source": [
        ""
      ],
      "metadata": {
        "id": "_G8MxVB5OGbU"
      },
      "execution_count": null,
      "outputs": []
    },
    {
      "cell_type": "code",
      "source": [
        ""
      ],
      "metadata": {
        "id": "ZtlUxCwAirJ0"
      },
      "execution_count": null,
      "outputs": []
    },
    {
      "cell_type": "code",
      "source": [
        ""
      ],
      "metadata": {
        "id": "6qQEslbAirLs"
      },
      "execution_count": null,
      "outputs": []
    },
    {
      "cell_type": "code",
      "source": [
        ""
      ],
      "metadata": {
        "id": "vEtsFqDAirNh"
      },
      "execution_count": null,
      "outputs": []
    },
    {
      "cell_type": "code",
      "source": [
        ""
      ],
      "metadata": {
        "id": "f6_T8lcXirPf"
      },
      "execution_count": null,
      "outputs": []
    },
    {
      "cell_type": "code",
      "source": [
        ""
      ],
      "metadata": {
        "id": "JD4Vsfd9irRa"
      },
      "execution_count": null,
      "outputs": []
    },
    {
      "cell_type": "code",
      "source": [
        ""
      ],
      "metadata": {
        "id": "nVpdQgcnirTT"
      },
      "execution_count": null,
      "outputs": []
    },
    {
      "cell_type": "code",
      "source": [
        ""
      ],
      "metadata": {
        "id": "yimkFYpiirWv"
      },
      "execution_count": null,
      "outputs": []
    }
  ]
}